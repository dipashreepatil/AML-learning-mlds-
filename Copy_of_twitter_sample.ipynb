{
  "nbformat": 4,
  "nbformat_minor": 0,
  "metadata": {
    "colab": {
      "name": "Copy of twitter_sample",
      "provenance": [],
      "collapsed_sections": [],
      "include_colab_link": true
    },
    "kernelspec": {
      "display_name": "Python 3",
      "name": "python3"
    }
  },
  "cells": [
    {
      "cell_type": "markdown",
      "metadata": {
        "id": "view-in-github",
        "colab_type": "text"
      },
      "source": [
        "<a href=\"https://colab.research.google.com/github/dipashreepatil/AML-learning-mlds-/blob/main/Copy_of_twitter_sample.ipynb\" target=\"_parent\"><img src=\"https://colab.research.google.com/assets/colab-badge.svg\" alt=\"Open In Colab\"/></a>"
      ]
    },
    {
      "cell_type": "code",
      "metadata": {
        "id": "XCbLOl0pLyd-"
      },
      "source": [
        "import tweepy                   # Python wrapper around Twitter API\n",
        "from google.colab import drive  # to mount Drive to Colab notebook\n",
        "import json\n",
        "import csv\n",
        "from datetime import date\n",
        "from datetime import datetime\n",
        "import time\n",
        "import os\n",
        "import tweepy as tw\n",
        "import pandas as pd"
      ],
      "execution_count": 1,
      "outputs": []
    },
    {
      "cell_type": "code",
      "metadata": {
        "id": "BThIm9h0L5Cp",
        "colab": {
          "base_uri": "https://localhost:8080/"
        },
        "outputId": "b6909657-0689-442c-d243-6600a7320900"
      },
      "source": [
        "# Connect Google Drive to Colab\n",
        "drive.mount('/content/gdrive')\n",
        "# Create a variable to store the data path on your drive\n",
        "\n",
        "path = './content/gdrive/My Drive/B-Tech Project 20-21 Group 7/NLP'"
      ],
      "execution_count": 2,
      "outputs": [
        {
          "output_type": "stream",
          "text": [
            "Mounted at /content/gdrive\n"
          ],
          "name": "stdout"
        }
      ]
    },
    {
      "cell_type": "code",
      "metadata": {
        "id": "J8wEBDtUmlkc"
      },
      "source": [
        ""
      ],
      "execution_count": null,
      "outputs": []
    },
    {
      "cell_type": "code",
      "metadata": {
        "id": "3DOICNmqL5VJ"
      },
      "source": [
        "\n",
        "api_key = 'bXa3bAs7M4O1d9a3wCyYRq5dn'\n",
        "\n",
        "api_secret_key = 'IMXOI0vFU9KhN8Fnjm04K7NCRK6EGy5nxSUuh8FR07s78pHd65'\n",
        "\n",
        "access_token = '1300274872958873600-bMOVNLomg5ZZxLLA19AMShgGxB3Xrw'\n",
        "access_token_secret = 'oN3gya8E0OVJVD6Q2UTlMJrWrHAELy115qngQweYI80CJ'\n",
        "\n",
        "\n",
        "# Connect to Twitter API using the secrets\n",
        "auth = tweepy.OAuthHandler(api_key, api_secret_key)\n",
        "auth.set_access_token(access_token, access_token_secret)\n",
        "#api = tweepy.API(auth)\n",
        "api = tweepy.API(auth, wait_on_rate_limit=True) #wait_on_rate_limit=True to avoid tweeter error status code 429"
      ],
      "execution_count": 3,
      "outputs": []
    },
    {
      "cell_type": "code",
      "metadata": {
        "id": "3B1KdjjlL5jW"
      },
      "source": [
        "#@title Default title text\n",
        "search_words = \"Apple Stocks\" #@param {type:\"string\"}\n",
        "max_tweets =  1000#@param {type:\"integer\"}\n",
        "# search_words = input(\"Enter the query: \") \n",
        "# max_tweets = int(input(\"Enter the max tweets to fetch: \"))\n",
        "date_since = \"2019-06-01\"\n",
        "# Filter out the duplicates\n",
        "# new_search = search_words + \" -filter:retweets\"\n",
        "# new_search\n"
      ],
      "execution_count": 4,
      "outputs": []
    },
    {
      "cell_type": "code",
      "metadata": {
        "id": "L8UVXja1ME1I"
      },
      "source": [
        "# Collect tweets and store in json file\n",
        "# Creating a list of lists to store the parameters of tweets like id,text,retweet_count etc.\n",
        "tweets_data = tw.Cursor(api.search,q=search_words,lang=\"en\",since=date_since).items(100)\n",
        "tweets_list=[]\n",
        "\n",
        "\n",
        "with open('tweets_json.json', 'w', encoding='utf8') as file:      \n",
        "  for tweet in tweets_data:         \n",
        "    json.dump(tweet._json, file)\n",
        "    file.write('\\n')\n",
        "\n",
        "    lst = []\n",
        "    lst.extend((tweet.id,tweet.created_at,tweet.text,tweet.place,tweet.retweet_count,tweet.favorite_count))\n",
        "    tweets_list.append(lst)\n",
        "    "
      ],
      "execution_count": 5,
      "outputs": []
    },
    {
      "cell_type": "code",
      "metadata": {
        "id": "wFW0V7R3MEnS"
      },
      "source": [
        "#print(tweet_text)\n",
        "#print(tweet_id)\n",
        "#print(tweet_created_at)\n",
        "#print(tweet_place)\n",
        "#print(tweet_retweet_count)\n",
        "#print(tweet_retweet_count)\n"
      ],
      "execution_count": null,
      "outputs": []
    },
    {
      "cell_type": "code",
      "metadata": {
        "id": "kXrkI8zv-cGY"
      },
      "source": [
        "#print(tweets_list)"
      ],
      "execution_count": null,
      "outputs": []
    },
    {
      "cell_type": "code",
      "metadata": {
        "id": "BYb8aI3Q5Eba",
        "cellView": "code"
      },
      "source": [
        "#@title Default title text\n",
        "#converting list of lists to csv file\n",
        "\n",
        "df = pd.DataFrame(tweets_list, columns = ['ID','Date','text','place','retweets','favorites'])\n",
        "# df.to_csv('tweets_csv.csv', index=False, header=[\"id\",\"created_at\",\"text\",\"place\",\"retweet_count\",\"favourite count\"])\n",
        "df.to_csv('/content/gdrive/MyDrive/B-Tech Project 20-21 Group 7/NLP datasets/{}-{}k-tweets-from-to-around-region.csv'.format(search_words, int(max_tweets/1000)), sep=',')"
      ],
      "execution_count": 8,
      "outputs": []
    },
    {
      "cell_type": "code",
      "metadata": {
        "id": "tE3dYWUxJKAX"
      },
      "source": [
        "\n",
        "import pandas as pd\n",
        "df1 = pd.read_csv(\"/content/gdrive/MyDrive/B-Tech Project 20-21 Group 7/NLP datasets/Apple Stocks-1k-tweets-from-to-around-region.csv\", encoding = 'unicode_escape')\n"
      ],
      "execution_count": 10,
      "outputs": []
    },
    {
      "cell_type": "code",
      "metadata": {
        "id": "sLWucdIzNI57",
        "colab": {
          "base_uri": "https://localhost:8080/",
          "height": 195
        },
        "outputId": "b82c4ecd-6568-4cd2-8b91-53bea798b53e"
      },
      "source": [
        "df1.head()"
      ],
      "execution_count": 11,
      "outputs": [
        {
          "output_type": "execute_result",
          "data": {
            "text/html": [
              "<div>\n",
              "<style scoped>\n",
              "    .dataframe tbody tr th:only-of-type {\n",
              "        vertical-align: middle;\n",
              "    }\n",
              "\n",
              "    .dataframe tbody tr th {\n",
              "        vertical-align: top;\n",
              "    }\n",
              "\n",
              "    .dataframe thead th {\n",
              "        text-align: right;\n",
              "    }\n",
              "</style>\n",
              "<table border=\"1\" class=\"dataframe\">\n",
              "  <thead>\n",
              "    <tr style=\"text-align: right;\">\n",
              "      <th></th>\n",
              "      <th>Unnamed: 0</th>\n",
              "      <th>ID</th>\n",
              "      <th>Date</th>\n",
              "      <th>text</th>\n",
              "      <th>place</th>\n",
              "      <th>retweets</th>\n",
              "      <th>favorites</th>\n",
              "    </tr>\n",
              "  </thead>\n",
              "  <tbody>\n",
              "    <tr>\n",
              "      <th>0</th>\n",
              "      <td>0</td>\n",
              "      <td>1340180909576904704</td>\n",
              "      <td>2020-12-19 06:23:22</td>\n",
              "      <td>ð Thereâs a Holiday Event going on in the...</td>\n",
              "      <td>NaN</td>\n",
              "      <td>0</td>\n",
              "      <td>0</td>\n",
              "    </tr>\n",
              "    <tr>\n",
              "      <th>1</th>\n",
              "      <td>1</td>\n",
              "      <td>1340178387361550338</td>\n",
              "      <td>2020-12-19 06:13:21</td>\n",
              "      <td>apple stocks rise by 35%.</td>\n",
              "      <td>NaN</td>\n",
              "      <td>0</td>\n",
              "      <td>0</td>\n",
              "    </tr>\n",
              "    <tr>\n",
              "      <th>2</th>\n",
              "      <td>2</td>\n",
              "      <td>1340177440585494529</td>\n",
              "      <td>2020-12-19 06:09:35</td>\n",
              "      <td>TIL you can use multi touch to compare price a...</td>\n",
              "      <td>NaN</td>\n",
              "      <td>0</td>\n",
              "      <td>0</td>\n",
              "    </tr>\n",
              "    <tr>\n",
              "      <th>3</th>\n",
              "      <td>3</td>\n",
              "      <td>1340174982912077832</td>\n",
              "      <td>2020-12-19 05:59:49</td>\n",
              "      <td>RT @333Crypto: Synthetix Network Token (SNX) t...</td>\n",
              "      <td>NaN</td>\n",
              "      <td>1</td>\n",
              "      <td>0</td>\n",
              "    </tr>\n",
              "    <tr>\n",
              "      <th>4</th>\n",
              "      <td>4</td>\n",
              "      <td>1340172930274054144</td>\n",
              "      <td>2020-12-19 05:51:40</td>\n",
              "      <td>ð Thereâs a Holiday Event going on in the...</td>\n",
              "      <td>NaN</td>\n",
              "      <td>0</td>\n",
              "      <td>0</td>\n",
              "    </tr>\n",
              "  </tbody>\n",
              "</table>\n",
              "</div>"
            ],
            "text/plain": [
              "   Unnamed: 0                   ID  ... retweets favorites\n",
              "0           0  1340180909576904704  ...        0         0\n",
              "1           1  1340178387361550338  ...        0         0\n",
              "2           2  1340177440585494529  ...        0         0\n",
              "3           3  1340174982912077832  ...        1         0\n",
              "4           4  1340172930274054144  ...        0         0\n",
              "\n",
              "[5 rows x 7 columns]"
            ]
          },
          "metadata": {
            "tags": []
          },
          "execution_count": 11
        }
      ]
    },
    {
      "cell_type": "code",
      "metadata": {
        "id": "Q5KfyN82N3aB",
        "colab": {
          "base_uri": "https://localhost:8080/"
        },
        "outputId": "512741fc-6fac-4828-b13b-f1bb63035635"
      },
      "source": [
        "print(df1.columns)"
      ],
      "execution_count": 12,
      "outputs": [
        {
          "output_type": "stream",
          "text": [
            "Index(['Unnamed: 0', 'ID', 'Date', 'text', 'place', 'retweets', 'favorites'], dtype='object')\n"
          ],
          "name": "stdout"
        }
      ]
    },
    {
      "cell_type": "code",
      "metadata": {
        "id": "2kXX7ARQN3Pj",
        "colab": {
          "base_uri": "https://localhost:8080/"
        },
        "outputId": "53a44335-7d3a-4f50-9063-7896c4bf088f"
      },
      "source": [
        "print(df1['text'].isna().sum())"
      ],
      "execution_count": 13,
      "outputs": [
        {
          "output_type": "stream",
          "text": [
            "0\n"
          ],
          "name": "stdout"
        }
      ]
    },
    {
      "cell_type": "code",
      "metadata": {
        "id": "Ee72z_ytOJo0"
      },
      "source": [
        "import re\n",
        "for i in range(len(df1)):\n",
        "     txt = df1.loc[i][\"text\"]\n",
        "     txt=re.sub(r'@[A-Z0-9a-z_:]+','',txt)#replace username-tags\n",
        "     txt=re.sub(r'^[RT]+','',txt)#replace RT-tags\n",
        "     txt = re.sub('https?://[A-Za-z0-9./]+','',txt)#replace URLs\n",
        "     txt=re.sub(\"[^a-zA-Z]\", \" \",txt)#replace hashtags\n",
        "     df1.at[i,\"text\"]=txt"
      ],
      "execution_count": 14,
      "outputs": []
    },
    {
      "cell_type": "code",
      "metadata": {
        "id": "ZQMbWQrpOJey"
      },
      "source": [
        "df1=df1.drop_duplicates(['text'])"
      ],
      "execution_count": 15,
      "outputs": []
    },
    {
      "cell_type": "code",
      "metadata": {
        "colab": {
          "base_uri": "https://localhost:8080/",
          "height": 343
        },
        "id": "0uQRUBOMwppB",
        "outputId": "4eb3ab4b-ee36-41c3-d047-e1ab8ab577cf"
      },
      "source": [
        "df1.head(10)"
      ],
      "execution_count": 16,
      "outputs": [
        {
          "output_type": "execute_result",
          "data": {
            "text/html": [
              "<div>\n",
              "<style scoped>\n",
              "    .dataframe tbody tr th:only-of-type {\n",
              "        vertical-align: middle;\n",
              "    }\n",
              "\n",
              "    .dataframe tbody tr th {\n",
              "        vertical-align: top;\n",
              "    }\n",
              "\n",
              "    .dataframe thead th {\n",
              "        text-align: right;\n",
              "    }\n",
              "</style>\n",
              "<table border=\"1\" class=\"dataframe\">\n",
              "  <thead>\n",
              "    <tr style=\"text-align: right;\">\n",
              "      <th></th>\n",
              "      <th>Unnamed: 0</th>\n",
              "      <th>ID</th>\n",
              "      <th>Date</th>\n",
              "      <th>text</th>\n",
              "      <th>place</th>\n",
              "      <th>retweets</th>\n",
              "      <th>favorites</th>\n",
              "    </tr>\n",
              "  </thead>\n",
              "  <tbody>\n",
              "    <tr>\n",
              "      <th>0</th>\n",
              "      <td>0</td>\n",
              "      <td>1340180909576904704</td>\n",
              "      <td>2020-12-19 06:23:22</td>\n",
              "      <td>There   s a Holiday Event going on in the...</td>\n",
              "      <td>NaN</td>\n",
              "      <td>0</td>\n",
              "      <td>0</td>\n",
              "    </tr>\n",
              "    <tr>\n",
              "      <th>1</th>\n",
              "      <td>1</td>\n",
              "      <td>1340178387361550338</td>\n",
              "      <td>2020-12-19 06:13:21</td>\n",
              "      <td>apple stocks rise by</td>\n",
              "      <td>NaN</td>\n",
              "      <td>0</td>\n",
              "      <td>0</td>\n",
              "    </tr>\n",
              "    <tr>\n",
              "      <th>2</th>\n",
              "      <td>2</td>\n",
              "      <td>1340177440585494529</td>\n",
              "      <td>2020-12-19 06:09:35</td>\n",
              "      <td>IL you can use multi touch to compare price ac...</td>\n",
              "      <td>NaN</td>\n",
              "      <td>0</td>\n",
              "      <td>0</td>\n",
              "    </tr>\n",
              "    <tr>\n",
              "      <th>3</th>\n",
              "      <td>3</td>\n",
              "      <td>1340174982912077832</td>\n",
              "      <td>2020-12-19 05:59:49</td>\n",
              "      <td>Synthetix Network Token  SNX  to list Synthe...</td>\n",
              "      <td>NaN</td>\n",
              "      <td>1</td>\n",
              "      <td>0</td>\n",
              "    </tr>\n",
              "    <tr>\n",
              "      <th>5</th>\n",
              "      <td>5</td>\n",
              "      <td>1340171643532931073</td>\n",
              "      <td>2020-12-19 05:46:33</td>\n",
              "      <td>Synthetix Network Token  SNX  to list Syntheti...</td>\n",
              "      <td>NaN</td>\n",
              "      <td>1</td>\n",
              "      <td>9</td>\n",
              "    </tr>\n",
              "    <tr>\n",
              "      <th>14</th>\n",
              "      <td>14</td>\n",
              "      <td>1340152652932542465</td>\n",
              "      <td>2020-12-19 04:31:05</td>\n",
              "      <td>Highest market cap in billions among  stocks...</td>\n",
              "      <td>NaN</td>\n",
              "      <td>1</td>\n",
              "      <td>0</td>\n",
              "    </tr>\n",
              "    <tr>\n",
              "      <th>16</th>\n",
              "      <td>16</td>\n",
              "      <td>1340146857595424774</td>\n",
              "      <td>2020-12-19 04:08:04</td>\n",
              "      <td>Apple   AAPL    With USD    x         With ...</td>\n",
              "      <td>NaN</td>\n",
              "      <td>1</td>\n",
              "      <td>0</td>\n",
              "    </tr>\n",
              "    <tr>\n",
              "      <th>17</th>\n",
              "      <td>17</td>\n",
              "      <td>1340146739823579136</td>\n",
              "      <td>2020-12-19 04:07:36</td>\n",
              "      <td>Facebook    FB   With USD      x         Wi...</td>\n",
              "      <td>NaN</td>\n",
              "      <td>0</td>\n",
              "      <td>0</td>\n",
              "    </tr>\n",
              "    <tr>\n",
              "      <th>19</th>\n",
              "      <td>19</td>\n",
              "      <td>1340145010822569985</td>\n",
              "      <td>2020-12-19 04:00:43</td>\n",
              "      <td>Highest market cap in billions among  stocks  ...</td>\n",
              "      <td>NaN</td>\n",
              "      <td>1</td>\n",
              "      <td>1</td>\n",
              "    </tr>\n",
              "    <tr>\n",
              "      <th>20</th>\n",
              "      <td>20</td>\n",
              "      <td>1340141842726174720</td>\n",
              "      <td>2020-12-19 03:48:08</td>\n",
              "      <td>Yup    Apple and Microsoft making their own ...</td>\n",
              "      <td>NaN</td>\n",
              "      <td>0</td>\n",
              "      <td>0</td>\n",
              "    </tr>\n",
              "  </tbody>\n",
              "</table>\n",
              "</div>"
            ],
            "text/plain": [
              "    Unnamed: 0                   ID  ... retweets favorites\n",
              "0            0  1340180909576904704  ...        0         0\n",
              "1            1  1340178387361550338  ...        0         0\n",
              "2            2  1340177440585494529  ...        0         0\n",
              "3            3  1340174982912077832  ...        1         0\n",
              "5            5  1340171643532931073  ...        1         9\n",
              "14          14  1340152652932542465  ...        1         0\n",
              "16          16  1340146857595424774  ...        1         0\n",
              "17          17  1340146739823579136  ...        0         0\n",
              "19          19  1340145010822569985  ...        1         1\n",
              "20          20  1340141842726174720  ...        0         0\n",
              "\n",
              "[10 rows x 7 columns]"
            ]
          },
          "metadata": {
            "tags": []
          },
          "execution_count": 16
        }
      ]
    },
    {
      "cell_type": "code",
      "metadata": {
        "id": "SEkeN5wJOpx4",
        "colab": {
          "base_uri": "https://localhost:8080/"
        },
        "outputId": "000c72b4-2a2c-4836-f776-254629ebb91d"
      },
      "source": [
        "print(len(df1.index))\n",
        "serlis=df1.duplicated().tolist()\n",
        "print(serlis.count(True))#0\n",
        "serlis=df1.duplicated(['text']).tolist()\n",
        "print(serlis.count(True))#0"
      ],
      "execution_count": 17,
      "outputs": [
        {
          "output_type": "stream",
          "text": [
            "39\n",
            "0\n",
            "0\n"
          ],
          "name": "stdout"
        }
      ]
    },
    {
      "cell_type": "code",
      "metadata": {
        "id": "AiCJWvnnOyYR",
        "colab": {
          "base_uri": "https://localhost:8080/"
        },
        "outputId": "b8a605f4-b722-4f51-8d95-5ac6a1c9d3b7"
      },
      "source": [
        "df1['text'][10:50]"
      ],
      "execution_count": 18,
      "outputs": [
        {
          "output_type": "execute_result",
          "data": {
            "text/plain": [
              "26          Count Santula  they will buy Apple Stocks  \n",
              "28     They are archive stocks  Put them in a safe t...\n",
              "29    He bought me Tesla and apple stocks as one of ...\n",
              "30     You can invest at the safe table and buy stoc...\n",
              "34      this is a default ass screenshot of apple st...\n",
              "35     After hours trading clawed back  I   m not in...\n",
              "36      Weekly  Dec          S amp P      SP     Top...\n",
              "38      Weekly  Dec          S amp P      SP     Top...\n",
              "46    Weekly  Dec          S amp P      SP     Top  ...\n",
              "54     Bubble  Nobody on this thread owns    Maybe  ...\n",
              "55    Aside from the dominant stock names  Vanguard ...\n",
              "56      Weekly  Dec           NASDAQ      NASDAQ    ...\n",
              "59      Weekly  Dec           NASDAQ      NASDAQ    ...\n",
              "62      Weekly  Dec          S amp P      SP     Top...\n",
              "63      Weekly  Dec          S amp P      SP     Top...\n",
              "65    Weekly  Dec          S amp P      SP     Top  ...\n",
              "72    Weekly  Dec           NASDAQ      NASDAQ     T...\n",
              "80      Weekly  Dec           NASDAQ      NASDAQ    ...\n",
              "81    Weekly  Dec           NASDAQ      NASDAQ     T...\n",
              "83      Weekly  Dec           NASDAQ      NASDAQ    ...\n",
              "85      Bittrex Now Offers Trading in Tokenized Stoc...\n",
              "86         BEST STOCKS OF THE YEAR            wasn t...\n",
              "88           BEST STOCKS OF THE YEAR            wasn...\n",
              "90      If you   ve wanted to get in to  stocks join...\n",
              "91    If you   ve wanted to get in to  stocks join  ...\n",
              "94    Anyone who bought the apple headphones    y   ...\n",
              "95    New  Blog Post   Dow Jones Down     Points as ...\n",
              "97          There   s a  Holiday  Event going on in ...\n",
              "98        There   s a  Holiday  Event going on in th...\n",
              "Name: text, dtype: object"
            ]
          },
          "metadata": {
            "tags": []
          },
          "execution_count": 18
        }
      ]
    },
    {
      "cell_type": "code",
      "metadata": {
        "colab": {
          "base_uri": "https://localhost:8080/"
        },
        "id": "KczqnaIFwzuW",
        "outputId": "a81df440-51a2-4ec4-df8a-9649b9bff967"
      },
      "source": [
        "df1.count()"
      ],
      "execution_count": 20,
      "outputs": [
        {
          "output_type": "execute_result",
          "data": {
            "text/plain": [
              "Unnamed: 0    39\n",
              "ID            39\n",
              "Date          39\n",
              "text          39\n",
              "place          2\n",
              "retweets      39\n",
              "favorites     39\n",
              "dtype: int64"
            ]
          },
          "metadata": {
            "tags": []
          },
          "execution_count": 20
        }
      ]
    },
    {
      "cell_type": "code",
      "metadata": {
        "id": "ZnlGkDZzPCd-",
        "colab": {
          "base_uri": "https://localhost:8080/"
        },
        "outputId": "36b12f64-fbc8-4c09-be8a-3a0a1c672227"
      },
      "source": [
        "df1['text'][50:]"
      ],
      "execution_count": 19,
      "outputs": [
        {
          "output_type": "execute_result",
          "data": {
            "text/plain": [
              "Series([], Name: text, dtype: object)"
            ]
          },
          "metadata": {
            "tags": []
          },
          "execution_count": 19
        }
      ]
    },
    {
      "cell_type": "code",
      "metadata": {
        "id": "BMLMqL8bVNZX"
      },
      "source": [
        ""
      ],
      "execution_count": null,
      "outputs": []
    },
    {
      "cell_type": "markdown",
      "metadata": {
        "id": "Yh7OGBOdmbwd"
      },
      "source": [
        "Preprocessing\n"
      ]
    },
    {
      "cell_type": "code",
      "metadata": {
        "id": "Z-SVS-pwVkxf",
        "colab": {
          "base_uri": "https://localhost:8080/"
        },
        "outputId": "51e02ffe-c136-4edb-868a-104b0315c782"
      },
      "source": [
        "!pip install tweet-preprocessor\n"
      ],
      "execution_count": 21,
      "outputs": [
        {
          "output_type": "stream",
          "text": [
            "Collecting tweet-preprocessor\n",
            "  Downloading https://files.pythonhosted.org/packages/17/9d/71bd016a9edcef8860c607e531f30bd09b13103c7951ae73dd2bf174163c/tweet_preprocessor-0.6.0-py3-none-any.whl\n",
            "Installing collected packages: tweet-preprocessor\n",
            "Successfully installed tweet-preprocessor-0.6.0\n"
          ],
          "name": "stdout"
        }
      ]
    },
    {
      "cell_type": "code",
      "metadata": {
        "id": "2juS6_kqVmcD"
      },
      "source": [
        "import preprocessor as p"
      ],
      "execution_count": 22,
      "outputs": []
    },
    {
      "cell_type": "code",
      "metadata": {
        "id": "V9VJF9h9Vn6U",
        "colab": {
          "base_uri": "https://localhost:8080/"
        },
        "outputId": "8cf0f2d2-ad47-48f2-b068-349527776d49"
      },
      "source": [
        "#important libraries for preprocessing using NLTK\n",
        "import nltk\n",
        "from nltk import word_tokenize, FreqDist\n",
        "from nltk.corpus import stopwords\n",
        "from nltk.stem import WordNetLemmatizer\n",
        "nltk.download\n",
        "nltk.download('wordnet')\n",
        "nltk.download('stopwords')\n",
        "from nltk.tokenize import TweetTokenizer"
      ],
      "execution_count": 23,
      "outputs": [
        {
          "output_type": "stream",
          "text": [
            "[nltk_data] Downloading package wordnet to /root/nltk_data...\n",
            "[nltk_data]   Unzipping corpora/wordnet.zip.\n",
            "[nltk_data] Downloading package stopwords to /root/nltk_data...\n",
            "[nltk_data]   Unzipping corpora/stopwords.zip.\n"
          ],
          "name": "stdout"
        }
      ]
    },
    {
      "cell_type": "code",
      "metadata": {
        "id": "2CulLUNQVyRD",
        "colab": {
          "base_uri": "https://localhost:8080/"
        },
        "outputId": "5490b2be-003e-4be8-81b4-3e5317471caf"
      },
      "source": [
        "df1.count()"
      ],
      "execution_count": 24,
      "outputs": [
        {
          "output_type": "execute_result",
          "data": {
            "text/plain": [
              "Unnamed: 0    39\n",
              "ID            39\n",
              "Date          39\n",
              "text          39\n",
              "place          2\n",
              "retweets      39\n",
              "favorites     39\n",
              "dtype: int64"
            ]
          },
          "metadata": {
            "tags": []
          },
          "execution_count": 24
        }
      ]
    },
    {
      "cell_type": "code",
      "metadata": {
        "id": "e6zWQYC8WIuS",
        "colab": {
          "base_uri": "https://localhost:8080/"
        },
        "outputId": "1aeeb5ff-ece0-4efe-bbb5-75242086262d"
      },
      "source": [
        "df1['preTweets'] = df1['text']\n",
        "df1.preTweets.head()"
      ],
      "execution_count": 25,
      "outputs": [
        {
          "output_type": "execute_result",
          "data": {
            "text/plain": [
              "0         There   s a Holiday Event going on in the...\n",
              "1                            apple stocks rise by     \n",
              "2    IL you can use multi touch to compare price ac...\n",
              "3      Synthetix Network Token  SNX  to list Synthe...\n",
              "5    Synthetix Network Token  SNX  to list Syntheti...\n",
              "Name: preTweets, dtype: object"
            ]
          },
          "metadata": {
            "tags": []
          },
          "execution_count": 25
        }
      ]
    },
    {
      "cell_type": "code",
      "metadata": {
        "id": "fYkmP1YWV3iY"
      },
      "source": [
        "from gensim.parsing.preprocessing import remove_stopwords"
      ],
      "execution_count": 26,
      "outputs": []
    },
    {
      "cell_type": "code",
      "metadata": {
        "id": "LZuJ6ah5WfYF"
      },
      "source": [
        "def preprocess_tweet(row):\n",
        "    text = row['preTweets']\n",
        "    text = p.clean(text)\n",
        "    return text"
      ],
      "execution_count": 27,
      "outputs": []
    },
    {
      "cell_type": "code",
      "metadata": {
        "id": "G7WytnAvWk8P",
        "colab": {
          "base_uri": "https://localhost:8080/",
          "height": 296
        },
        "outputId": "29faf82e-c21e-4067-8f65-b3cd07c4daed"
      },
      "source": [
        "df1['preTweets'] = df1.apply(preprocess_tweet, axis=1)\n",
        "df1.head()"
      ],
      "execution_count": 28,
      "outputs": [
        {
          "output_type": "execute_result",
          "data": {
            "text/html": [
              "<div>\n",
              "<style scoped>\n",
              "    .dataframe tbody tr th:only-of-type {\n",
              "        vertical-align: middle;\n",
              "    }\n",
              "\n",
              "    .dataframe tbody tr th {\n",
              "        vertical-align: top;\n",
              "    }\n",
              "\n",
              "    .dataframe thead th {\n",
              "        text-align: right;\n",
              "    }\n",
              "</style>\n",
              "<table border=\"1\" class=\"dataframe\">\n",
              "  <thead>\n",
              "    <tr style=\"text-align: right;\">\n",
              "      <th></th>\n",
              "      <th>Unnamed: 0</th>\n",
              "      <th>ID</th>\n",
              "      <th>Date</th>\n",
              "      <th>text</th>\n",
              "      <th>place</th>\n",
              "      <th>retweets</th>\n",
              "      <th>favorites</th>\n",
              "      <th>preTweets</th>\n",
              "    </tr>\n",
              "  </thead>\n",
              "  <tbody>\n",
              "    <tr>\n",
              "      <th>0</th>\n",
              "      <td>0</td>\n",
              "      <td>1340180909576904704</td>\n",
              "      <td>2020-12-19 06:23:22</td>\n",
              "      <td>There   s a Holiday Event going on in the...</td>\n",
              "      <td>NaN</td>\n",
              "      <td>0</td>\n",
              "      <td>0</td>\n",
              "      <td>There s a Holiday Event going on in the Webull...</td>\n",
              "    </tr>\n",
              "    <tr>\n",
              "      <th>1</th>\n",
              "      <td>1</td>\n",
              "      <td>1340178387361550338</td>\n",
              "      <td>2020-12-19 06:13:21</td>\n",
              "      <td>apple stocks rise by</td>\n",
              "      <td>NaN</td>\n",
              "      <td>0</td>\n",
              "      <td>0</td>\n",
              "      <td>apple stocks rise by</td>\n",
              "    </tr>\n",
              "    <tr>\n",
              "      <th>2</th>\n",
              "      <td>2</td>\n",
              "      <td>1340177440585494529</td>\n",
              "      <td>2020-12-19 06:09:35</td>\n",
              "      <td>IL you can use multi touch to compare price ac...</td>\n",
              "      <td>NaN</td>\n",
              "      <td>0</td>\n",
              "      <td>0</td>\n",
              "      <td>IL you can use multi touch to compare price ac...</td>\n",
              "    </tr>\n",
              "    <tr>\n",
              "      <th>3</th>\n",
              "      <td>3</td>\n",
              "      <td>1340174982912077832</td>\n",
              "      <td>2020-12-19 05:59:49</td>\n",
              "      <td>Synthetix Network Token  SNX  to list Synthe...</td>\n",
              "      <td>NaN</td>\n",
              "      <td>1</td>\n",
              "      <td>0</td>\n",
              "      <td>Synthetix Network Token SNX to list Synthetic ...</td>\n",
              "    </tr>\n",
              "    <tr>\n",
              "      <th>5</th>\n",
              "      <td>5</td>\n",
              "      <td>1340171643532931073</td>\n",
              "      <td>2020-12-19 05:46:33</td>\n",
              "      <td>Synthetix Network Token  SNX  to list Syntheti...</td>\n",
              "      <td>NaN</td>\n",
              "      <td>1</td>\n",
              "      <td>9</td>\n",
              "      <td>Synthetix Network Token SNX to list Synthetic ...</td>\n",
              "    </tr>\n",
              "  </tbody>\n",
              "</table>\n",
              "</div>"
            ],
            "text/plain": [
              "   Unnamed: 0  ...                                          preTweets\n",
              "0           0  ...  There s a Holiday Event going on in the Webull...\n",
              "1           1  ...                               apple stocks rise by\n",
              "2           2  ...  IL you can use multi touch to compare price ac...\n",
              "3           3  ...  Synthetix Network Token SNX to list Synthetic ...\n",
              "5           5  ...  Synthetix Network Token SNX to list Synthetic ...\n",
              "\n",
              "[5 rows x 8 columns]"
            ]
          },
          "metadata": {
            "tags": []
          },
          "execution_count": 28
        }
      ]
    },
    {
      "cell_type": "code",
      "metadata": {
        "id": "y0pzKxuFV-b-"
      },
      "source": [
        "def stopword_removal(row):\n",
        "    text = row['preTweets']\n",
        "    text = remove_stopwords(text)\n",
        "    return text"
      ],
      "execution_count": 30,
      "outputs": []
    },
    {
      "cell_type": "code",
      "metadata": {
        "id": "83HtV_C0WshY",
        "colab": {
          "base_uri": "https://localhost:8080/"
        },
        "outputId": "982d8943-a4dc-427f-c28e-eda8327338ee"
      },
      "source": [
        "df1['preTweets'] = df1.apply(stopword_removal, axis=1)\n",
        "df1.preTweets.head(10)"
      ],
      "execution_count": 31,
      "outputs": [
        {
          "output_type": "execute_result",
          "data": {
            "text/plain": [
              "0     There s Holiday Event going Webull mobile app ...\n",
              "1                                     apple stocks rise\n",
              "2     IL use multi touch compare price action arbitr...\n",
              "3     Synthetix Network Token SNX list Synthetic STO...\n",
              "5     Synthetix Network Token SNX list Synthetic STO...\n",
              "14    Highest market cap billions stocks SPX SPY APP...\n",
              "16    Apple AAPL With USD x With BTC In words BTC AA...\n",
              "17    Facebook FB With USD x With BTC In words BTC F...\n",
              "19    Highest market cap billions stocks SPX SPY APP...\n",
              "20    Yup Apple Microsoft making chips bullish chip ...\n",
              "Name: preTweets, dtype: object"
            ]
          },
          "metadata": {
            "tags": []
          },
          "execution_count": 31
        }
      ]
    },
    {
      "cell_type": "code",
      "metadata": {
        "id": "-nxQ4ilbWyzP",
        "colab": {
          "base_uri": "https://localhost:8080/"
        },
        "outputId": "399fc2f1-bdf9-4c07-8dd0-37393627ce1e"
      },
      "source": [
        "df1['preTweets'] = df1['preTweets'].str.lower().str.replace('[^\\w\\s]',' ').str.replace('\\s\\s+', ' ')\n",
        "df1.preTweets.head(10)"
      ],
      "execution_count": 32,
      "outputs": [
        {
          "output_type": "execute_result",
          "data": {
            "text/plain": [
              "0     there s holiday event going webull mobile app ...\n",
              "1                                     apple stocks rise\n",
              "2     il use multi touch compare price action arbitr...\n",
              "3     synthetix network token snx list synthetic sto...\n",
              "5     synthetix network token snx list synthetic sto...\n",
              "14    highest market cap billions stocks spx spy app...\n",
              "16    apple aapl with usd x with btc in words btc aa...\n",
              "17    facebook fb with usd x with btc in words btc f...\n",
              "19    highest market cap billions stocks spx spy app...\n",
              "20    yup apple microsoft making chips bullish chip ...\n",
              "Name: preTweets, dtype: object"
            ]
          },
          "metadata": {
            "tags": []
          },
          "execution_count": 32
        }
      ]
    },
    {
      "cell_type": "code",
      "metadata": {
        "id": "uhciLPgKW-iq",
        "colab": {
          "base_uri": "https://localhost:8080/"
        },
        "outputId": "c791a7b9-8e8d-4ba3-e729-597c72469746"
      },
      "source": [
        "lemmatizer = nltk.stem.WordNetLemmatizer()\n",
        "w_tokenizer = TweetTokenizer()\n",
        "def lemmatize_text(df1_text):\n",
        " return [(lemmatizer.lemmatize(w)) for w in w_tokenizer.tokenize((df1_text))]\n",
        "df1.text.head(10)\n"
      ],
      "execution_count": 33,
      "outputs": [
        {
          "output_type": "execute_result",
          "data": {
            "text/plain": [
              "0          There   s a Holiday Event going on in the...\n",
              "1                             apple stocks rise by     \n",
              "2     IL you can use multi touch to compare price ac...\n",
              "3       Synthetix Network Token  SNX  to list Synthe...\n",
              "5     Synthetix Network Token  SNX  to list Syntheti...\n",
              "14      Highest market cap in billions among  stocks...\n",
              "16       Apple   AAPL    With USD    x         With ...\n",
              "17       Facebook    FB   With USD      x         Wi...\n",
              "19    Highest market cap in billions among  stocks  ...\n",
              "20      Yup    Apple and Microsoft making their own ...\n",
              "Name: text, dtype: object"
            ]
          },
          "metadata": {
            "tags": []
          },
          "execution_count": 33
        }
      ]
    },
    {
      "cell_type": "code",
      "metadata": {
        "id": "ixpRzuQnXFTG",
        "colab": {
          "base_uri": "https://localhost:8080/"
        },
        "outputId": "09f06afb-3fd9-4eeb-f8b4-d6c38a1bb5b9"
      },
      "source": [
        "df1_text= df1['preTweets']\n",
        "df1_text.head(20)"
      ],
      "execution_count": 34,
      "outputs": [
        {
          "output_type": "execute_result",
          "data": {
            "text/plain": [
              "0     there s holiday event going webull mobile app ...\n",
              "1                                     apple stocks rise\n",
              "2     il use multi touch compare price action arbitr...\n",
              "3     synthetix network token snx list synthetic sto...\n",
              "5     synthetix network token snx list synthetic sto...\n",
              "14    highest market cap billions stocks spx spy app...\n",
              "16    apple aapl with usd x with btc in words btc aa...\n",
              "17    facebook fb with usd x with btc in words btc f...\n",
              "19    highest market cap billions stocks spx spy app...\n",
              "20    yup apple microsoft making chips bullish chip ...\n",
              "26                       count santula buy apple stocks\n",
              "28    they archive stocks put safe end capsule space...\n",
              "29         he bought tesla apple stocks christmas gifts\n",
              "30    you invest safe table buy stocks like apple ho...\n",
              "34        default ass screenshot apple stocks know shit\n",
              "35    after hours trading clawed i m amazon of faang...\n",
              "36    weekly dec s amp p sp top stockmarket buy flow...\n",
              "38    weekly dec s amp p sp top stockmarket buy flow...\n",
              "46    weekly dec s amp p sp top stockmarket buy flow...\n",
              "54    bubble nobody thread owns maybe ppl doubtful t...\n",
              "Name: preTweets, dtype: object"
            ]
          },
          "metadata": {
            "tags": []
          },
          "execution_count": 34
        }
      ]
    },
    {
      "cell_type": "code",
      "metadata": {
        "id": "RCgxaeidXVqZ",
        "colab": {
          "base_uri": "https://localhost:8080/",
          "height": 629
        },
        "outputId": "71118073-ad75-4914-983e-0c2b4aab87bc"
      },
      "source": [
        "from textblob import TextBlob\n",
        "\n",
        "# Function to get the subjectivity score\n",
        "def getSubjectivity(text):\n",
        "   return TextBlob(text).sentiment.subjectivity\n",
        "\n",
        "#A function to get the polarity of text\n",
        "def getPolarity(text):\n",
        "   return  TextBlob(text).sentiment.polarity\n",
        "\n",
        "\n",
        "# Create two new columns 'Subjectivity' & 'Polarity'\n",
        "df1['subjectivity'] = df1['preTweets'].apply(getSubjectivity)\n",
        "df1['polarity'] = df1['preTweets'].apply(getPolarity)\n",
        "\n",
        "# Show the new dataframe with columns 'Subjectivity' & 'Polarity'\n",
        "df1.head(10)"
      ],
      "execution_count": 35,
      "outputs": [
        {
          "output_type": "execute_result",
          "data": {
            "text/html": [
              "<div>\n",
              "<style scoped>\n",
              "    .dataframe tbody tr th:only-of-type {\n",
              "        vertical-align: middle;\n",
              "    }\n",
              "\n",
              "    .dataframe tbody tr th {\n",
              "        vertical-align: top;\n",
              "    }\n",
              "\n",
              "    .dataframe thead th {\n",
              "        text-align: right;\n",
              "    }\n",
              "</style>\n",
              "<table border=\"1\" class=\"dataframe\">\n",
              "  <thead>\n",
              "    <tr style=\"text-align: right;\">\n",
              "      <th></th>\n",
              "      <th>Unnamed: 0</th>\n",
              "      <th>ID</th>\n",
              "      <th>Date</th>\n",
              "      <th>text</th>\n",
              "      <th>place</th>\n",
              "      <th>retweets</th>\n",
              "      <th>favorites</th>\n",
              "      <th>preTweets</th>\n",
              "      <th>subjectivity</th>\n",
              "      <th>polarity</th>\n",
              "    </tr>\n",
              "  </thead>\n",
              "  <tbody>\n",
              "    <tr>\n",
              "      <th>0</th>\n",
              "      <td>0</td>\n",
              "      <td>1340180909576904704</td>\n",
              "      <td>2020-12-19 06:23:22</td>\n",
              "      <td>There   s a Holiday Event going on in the...</td>\n",
              "      <td>NaN</td>\n",
              "      <td>0</td>\n",
              "      <td>0</td>\n",
              "      <td>there s holiday event going webull mobile app ...</td>\n",
              "      <td>0.000000</td>\n",
              "      <td>0.000000</td>\n",
              "    </tr>\n",
              "    <tr>\n",
              "      <th>1</th>\n",
              "      <td>1</td>\n",
              "      <td>1340178387361550338</td>\n",
              "      <td>2020-12-19 06:13:21</td>\n",
              "      <td>apple stocks rise by</td>\n",
              "      <td>NaN</td>\n",
              "      <td>0</td>\n",
              "      <td>0</td>\n",
              "      <td>apple stocks rise</td>\n",
              "      <td>0.000000</td>\n",
              "      <td>0.000000</td>\n",
              "    </tr>\n",
              "    <tr>\n",
              "      <th>2</th>\n",
              "      <td>2</td>\n",
              "      <td>1340177440585494529</td>\n",
              "      <td>2020-12-19 06:09:35</td>\n",
              "      <td>IL you can use multi touch to compare price ac...</td>\n",
              "      <td>NaN</td>\n",
              "      <td>0</td>\n",
              "      <td>0</td>\n",
              "      <td>il use multi touch compare price action arbitr...</td>\n",
              "      <td>0.350000</td>\n",
              "      <td>0.000000</td>\n",
              "    </tr>\n",
              "    <tr>\n",
              "      <th>3</th>\n",
              "      <td>3</td>\n",
              "      <td>1340174982912077832</td>\n",
              "      <td>2020-12-19 05:59:49</td>\n",
              "      <td>Synthetix Network Token  SNX  to list Synthe...</td>\n",
              "      <td>NaN</td>\n",
              "      <td>1</td>\n",
              "      <td>0</td>\n",
              "      <td>synthetix network token snx list synthetic sto...</td>\n",
              "      <td>0.000000</td>\n",
              "      <td>0.000000</td>\n",
              "    </tr>\n",
              "    <tr>\n",
              "      <th>5</th>\n",
              "      <td>5</td>\n",
              "      <td>1340171643532931073</td>\n",
              "      <td>2020-12-19 05:46:33</td>\n",
              "      <td>Synthetix Network Token  SNX  to list Syntheti...</td>\n",
              "      <td>NaN</td>\n",
              "      <td>1</td>\n",
              "      <td>9</td>\n",
              "      <td>synthetix network token snx list synthetic sto...</td>\n",
              "      <td>0.000000</td>\n",
              "      <td>0.000000</td>\n",
              "    </tr>\n",
              "    <tr>\n",
              "      <th>14</th>\n",
              "      <td>14</td>\n",
              "      <td>1340152652932542465</td>\n",
              "      <td>2020-12-19 04:31:05</td>\n",
              "      <td>Highest market cap in billions among  stocks...</td>\n",
              "      <td>NaN</td>\n",
              "      <td>1</td>\n",
              "      <td>0</td>\n",
              "      <td>highest market cap billions stocks spx spy app...</td>\n",
              "      <td>0.000000</td>\n",
              "      <td>0.000000</td>\n",
              "    </tr>\n",
              "    <tr>\n",
              "      <th>16</th>\n",
              "      <td>16</td>\n",
              "      <td>1340146857595424774</td>\n",
              "      <td>2020-12-19 04:08:04</td>\n",
              "      <td>Apple   AAPL    With USD    x         With ...</td>\n",
              "      <td>NaN</td>\n",
              "      <td>1</td>\n",
              "      <td>0</td>\n",
              "      <td>apple aapl with usd x with btc in words btc aa...</td>\n",
              "      <td>0.000000</td>\n",
              "      <td>0.000000</td>\n",
              "    </tr>\n",
              "    <tr>\n",
              "      <th>17</th>\n",
              "      <td>17</td>\n",
              "      <td>1340146739823579136</td>\n",
              "      <td>2020-12-19 04:07:36</td>\n",
              "      <td>Facebook    FB   With USD      x         Wi...</td>\n",
              "      <td>NaN</td>\n",
              "      <td>0</td>\n",
              "      <td>0</td>\n",
              "      <td>facebook fb with usd x with btc in words btc f...</td>\n",
              "      <td>0.000000</td>\n",
              "      <td>0.000000</td>\n",
              "    </tr>\n",
              "    <tr>\n",
              "      <th>19</th>\n",
              "      <td>19</td>\n",
              "      <td>1340145010822569985</td>\n",
              "      <td>2020-12-19 04:00:43</td>\n",
              "      <td>Highest market cap in billions among  stocks  ...</td>\n",
              "      <td>NaN</td>\n",
              "      <td>1</td>\n",
              "      <td>1</td>\n",
              "      <td>highest market cap billions stocks spx spy app...</td>\n",
              "      <td>0.000000</td>\n",
              "      <td>0.000000</td>\n",
              "    </tr>\n",
              "    <tr>\n",
              "      <th>20</th>\n",
              "      <td>20</td>\n",
              "      <td>1340141842726174720</td>\n",
              "      <td>2020-12-19 03:48:08</td>\n",
              "      <td>Yup    Apple and Microsoft making their own ...</td>\n",
              "      <td>NaN</td>\n",
              "      <td>0</td>\n",
              "      <td>0</td>\n",
              "      <td>yup apple microsoft making chips bullish chip ...</td>\n",
              "      <td>0.535714</td>\n",
              "      <td>0.285714</td>\n",
              "    </tr>\n",
              "  </tbody>\n",
              "</table>\n",
              "</div>"
            ],
            "text/plain": [
              "    Unnamed: 0                   ID  ... subjectivity  polarity\n",
              "0            0  1340180909576904704  ...     0.000000  0.000000\n",
              "1            1  1340178387361550338  ...     0.000000  0.000000\n",
              "2            2  1340177440585494529  ...     0.350000  0.000000\n",
              "3            3  1340174982912077832  ...     0.000000  0.000000\n",
              "5            5  1340171643532931073  ...     0.000000  0.000000\n",
              "14          14  1340152652932542465  ...     0.000000  0.000000\n",
              "16          16  1340146857595424774  ...     0.000000  0.000000\n",
              "17          17  1340146739823579136  ...     0.000000  0.000000\n",
              "19          19  1340145010822569985  ...     0.000000  0.000000\n",
              "20          20  1340141842726174720  ...     0.535714  0.285714\n",
              "\n",
              "[10 rows x 10 columns]"
            ]
          },
          "metadata": {
            "tags": []
          },
          "execution_count": 35
        }
      ]
    },
    {
      "cell_type": "code",
      "metadata": {
        "id": "RaT2L4DGXjKJ",
        "colab": {
          "base_uri": "https://localhost:8080/",
          "height": 198
        },
        "outputId": "25caacd4-94f9-4e93-ede4-b4acfbe8003f"
      },
      "source": [
        "from wordcloud import WordCloud\n",
        "from matplotlib import pyplot as plt \n",
        "# word cloud visualization\n",
        "allWords = ' '.join([twts for twts in df1['preTweets']])\n",
        "wordCloud = WordCloud(width=1000, height=500, random_state=21, max_font_size=110).generate(allWords)\n",
        "\n",
        "\n",
        "plt.imshow(wordCloud, interpolation=\"bilinear\")\n",
        "plt.axis('off')\n",
        "plt.show()"
      ],
      "execution_count": 36,
      "outputs": [
        {
          "output_type": "display_data",
          "data": {
            "image/png": "[encoded data removed]",
            "text/plain": [
              "<Figure size 432x288 with 1 Axes>"
            ]
          },
          "metadata": {
            "tags": [],
            "needs_background": "light"
          }
        }
      ]
    },
    {
      "cell_type": "code",
      "metadata": {
        "id": "oXQYBotbXrQh",
        "colab": {
          "base_uri": "https://localhost:8080/",
          "height": 1000
        },
        "outputId": "3f337e43-c59e-4a88-d3c9-105e8c716df0"
      },
      "source": [
        "# Create a function to compute negative (-1), neutral (0) and positive (+1) analysis\n",
        "def getAnalysis(score):\n",
        "  if score< 0:\n",
        "    return ('Negative')\n",
        "  elif score == 0:\n",
        "    return 'Neutral'\n",
        "  else:\n",
        "    return 'Positive'\n",
        "df1['analysis'] = df1['polarity'].apply(getAnalysis)\n",
        "# Show the dataframe\n",
        "df1[['text', 'preTweets', 'subjectivity', 'polarity', 'analysis']]"
      ],
      "execution_count": 37,
      "outputs": [
        {
          "output_type": "execute_result",
          "data": {
            "text/html": [
              "<div>\n",
              "<style scoped>\n",
              "    .dataframe tbody tr th:only-of-type {\n",
              "        vertical-align: middle;\n",
              "    }\n",
              "\n",
              "    .dataframe tbody tr th {\n",
              "        vertical-align: top;\n",
              "    }\n",
              "\n",
              "    .dataframe thead th {\n",
              "        text-align: right;\n",
              "    }\n",
              "</style>\n",
              "<table border=\"1\" class=\"dataframe\">\n",
              "  <thead>\n",
              "    <tr style=\"text-align: right;\">\n",
              "      <th></th>\n",
              "      <th>text</th>\n",
              "      <th>preTweets</th>\n",
              "      <th>subjectivity</th>\n",
              "      <th>polarity</th>\n",
              "      <th>analysis</th>\n",
              "    </tr>\n",
              "  </thead>\n",
              "  <tbody>\n",
              "    <tr>\n",
              "      <th>0</th>\n",
              "      <td>There   s a Holiday Event going on in the...</td>\n",
              "      <td>there s holiday event going webull mobile app ...</td>\n",
              "      <td>0.000000</td>\n",
              "      <td>0.000000</td>\n",
              "      <td>Neutral</td>\n",
              "    </tr>\n",
              "    <tr>\n",
              "      <th>1</th>\n",
              "      <td>apple stocks rise by</td>\n",
              "      <td>apple stocks rise</td>\n",
              "      <td>0.000000</td>\n",
              "      <td>0.000000</td>\n",
              "      <td>Neutral</td>\n",
              "    </tr>\n",
              "    <tr>\n",
              "      <th>2</th>\n",
              "      <td>IL you can use multi touch to compare price ac...</td>\n",
              "      <td>il use multi touch compare price action arbitr...</td>\n",
              "      <td>0.350000</td>\n",
              "      <td>0.000000</td>\n",
              "      <td>Neutral</td>\n",
              "    </tr>\n",
              "    <tr>\n",
              "      <th>3</th>\n",
              "      <td>Synthetix Network Token  SNX  to list Synthe...</td>\n",
              "      <td>synthetix network token snx list synthetic sto...</td>\n",
              "      <td>0.000000</td>\n",
              "      <td>0.000000</td>\n",
              "      <td>Neutral</td>\n",
              "    </tr>\n",
              "    <tr>\n",
              "      <th>5</th>\n",
              "      <td>Synthetix Network Token  SNX  to list Syntheti...</td>\n",
              "      <td>synthetix network token snx list synthetic sto...</td>\n",
              "      <td>0.000000</td>\n",
              "      <td>0.000000</td>\n",
              "      <td>Neutral</td>\n",
              "    </tr>\n",
              "    <tr>\n",
              "      <th>14</th>\n",
              "      <td>Highest market cap in billions among  stocks...</td>\n",
              "      <td>highest market cap billions stocks spx spy app...</td>\n",
              "      <td>0.000000</td>\n",
              "      <td>0.000000</td>\n",
              "      <td>Neutral</td>\n",
              "    </tr>\n",
              "    <tr>\n",
              "      <th>16</th>\n",
              "      <td>Apple   AAPL    With USD    x         With ...</td>\n",
              "      <td>apple aapl with usd x with btc in words btc aa...</td>\n",
              "      <td>0.000000</td>\n",
              "      <td>0.000000</td>\n",
              "      <td>Neutral</td>\n",
              "    </tr>\n",
              "    <tr>\n",
              "      <th>17</th>\n",
              "      <td>Facebook    FB   With USD      x         Wi...</td>\n",
              "      <td>facebook fb with usd x with btc in words btc f...</td>\n",
              "      <td>0.000000</td>\n",
              "      <td>0.000000</td>\n",
              "      <td>Neutral</td>\n",
              "    </tr>\n",
              "    <tr>\n",
              "      <th>19</th>\n",
              "      <td>Highest market cap in billions among  stocks  ...</td>\n",
              "      <td>highest market cap billions stocks spx spy app...</td>\n",
              "      <td>0.000000</td>\n",
              "      <td>0.000000</td>\n",
              "      <td>Neutral</td>\n",
              "    </tr>\n",
              "    <tr>\n",
              "      <th>20</th>\n",
              "      <td>Yup    Apple and Microsoft making their own ...</td>\n",
              "      <td>yup apple microsoft making chips bullish chip ...</td>\n",
              "      <td>0.535714</td>\n",
              "      <td>0.285714</td>\n",
              "      <td>Positive</td>\n",
              "    </tr>\n",
              "    <tr>\n",
              "      <th>26</th>\n",
              "      <td>Count Santula  they will buy Apple Stocks</td>\n",
              "      <td>count santula buy apple stocks</td>\n",
              "      <td>0.000000</td>\n",
              "      <td>0.000000</td>\n",
              "      <td>Neutral</td>\n",
              "    </tr>\n",
              "    <tr>\n",
              "      <th>28</th>\n",
              "      <td>They are archive stocks  Put them in a safe t...</td>\n",
              "      <td>they archive stocks put safe end capsule space...</td>\n",
              "      <td>0.500000</td>\n",
              "      <td>0.500000</td>\n",
              "      <td>Positive</td>\n",
              "    </tr>\n",
              "    <tr>\n",
              "      <th>29</th>\n",
              "      <td>He bought me Tesla and apple stocks as one of ...</td>\n",
              "      <td>he bought tesla apple stocks christmas gifts</td>\n",
              "      <td>0.000000</td>\n",
              "      <td>0.000000</td>\n",
              "      <td>Neutral</td>\n",
              "    </tr>\n",
              "    <tr>\n",
              "      <th>30</th>\n",
              "      <td>You can invest at the safe table and buy stoc...</td>\n",
              "      <td>you invest safe table buy stocks like apple ho...</td>\n",
              "      <td>0.500000</td>\n",
              "      <td>0.500000</td>\n",
              "      <td>Positive</td>\n",
              "    </tr>\n",
              "    <tr>\n",
              "      <th>34</th>\n",
              "      <td>this is a default ass screenshot of apple st...</td>\n",
              "      <td>default ass screenshot apple stocks know shit</td>\n",
              "      <td>0.800000</td>\n",
              "      <td>-0.200000</td>\n",
              "      <td>Negative</td>\n",
              "    </tr>\n",
              "    <tr>\n",
              "      <th>35</th>\n",
              "      <td>After hours trading clawed back  I   m not in...</td>\n",
              "      <td>after hours trading clawed i m amazon of faang...</td>\n",
              "      <td>0.000000</td>\n",
              "      <td>0.000000</td>\n",
              "      <td>Neutral</td>\n",
              "    </tr>\n",
              "    <tr>\n",
              "      <th>36</th>\n",
              "      <td>Weekly  Dec          S amp P      SP     Top...</td>\n",
              "      <td>weekly dec s amp p sp top stockmarket buy flow...</td>\n",
              "      <td>0.500000</td>\n",
              "      <td>0.500000</td>\n",
              "      <td>Positive</td>\n",
              "    </tr>\n",
              "    <tr>\n",
              "      <th>38</th>\n",
              "      <td>Weekly  Dec          S amp P      SP     Top...</td>\n",
              "      <td>weekly dec s amp p sp top stockmarket buy flow...</td>\n",
              "      <td>0.500000</td>\n",
              "      <td>0.500000</td>\n",
              "      <td>Positive</td>\n",
              "    </tr>\n",
              "    <tr>\n",
              "      <th>46</th>\n",
              "      <td>Weekly  Dec          S amp P      SP     Top  ...</td>\n",
              "      <td>weekly dec s amp p sp top stockmarket buy flow...</td>\n",
              "      <td>0.500000</td>\n",
              "      <td>0.500000</td>\n",
              "      <td>Positive</td>\n",
              "    </tr>\n",
              "    <tr>\n",
              "      <th>54</th>\n",
              "      <td>Bubble  Nobody on this thread owns    Maybe  ...</td>\n",
              "      <td>bubble nobody thread owns maybe ppl doubtful t...</td>\n",
              "      <td>0.900000</td>\n",
              "      <td>-0.800000</td>\n",
              "      <td>Negative</td>\n",
              "    </tr>\n",
              "    <tr>\n",
              "      <th>55</th>\n",
              "      <td>Aside from the dominant stock names  Vanguard ...</td>\n",
              "      <td>aside dominant stock names vanguard s equity f...</td>\n",
              "      <td>0.300000</td>\n",
              "      <td>0.000000</td>\n",
              "      <td>Neutral</td>\n",
              "    </tr>\n",
              "    <tr>\n",
              "      <th>56</th>\n",
              "      <td>Weekly  Dec           NASDAQ      NASDAQ    ...</td>\n",
              "      <td>weekly dec nasdaq nasdaq top stockmarket buy f...</td>\n",
              "      <td>0.500000</td>\n",
              "      <td>0.500000</td>\n",
              "      <td>Positive</td>\n",
              "    </tr>\n",
              "    <tr>\n",
              "      <th>59</th>\n",
              "      <td>Weekly  Dec           NASDAQ      NASDAQ    ...</td>\n",
              "      <td>weekly dec nasdaq nasdaq top stockmarket buy f...</td>\n",
              "      <td>0.500000</td>\n",
              "      <td>0.500000</td>\n",
              "      <td>Positive</td>\n",
              "    </tr>\n",
              "    <tr>\n",
              "      <th>62</th>\n",
              "      <td>Weekly  Dec          S amp P      SP     Top...</td>\n",
              "      <td>weekly dec s amp p sp top stockmarket sell flo...</td>\n",
              "      <td>0.500000</td>\n",
              "      <td>0.500000</td>\n",
              "      <td>Positive</td>\n",
              "    </tr>\n",
              "    <tr>\n",
              "      <th>63</th>\n",
              "      <td>Weekly  Dec          S amp P      SP     Top...</td>\n",
              "      <td>weekly dec s amp p sp top stockmarket sell flo...</td>\n",
              "      <td>0.500000</td>\n",
              "      <td>0.500000</td>\n",
              "      <td>Positive</td>\n",
              "    </tr>\n",
              "    <tr>\n",
              "      <th>65</th>\n",
              "      <td>Weekly  Dec          S amp P      SP     Top  ...</td>\n",
              "      <td>weekly dec s amp p sp top stockmarket sell flo...</td>\n",
              "      <td>0.500000</td>\n",
              "      <td>0.500000</td>\n",
              "      <td>Positive</td>\n",
              "    </tr>\n",
              "    <tr>\n",
              "      <th>72</th>\n",
              "      <td>Weekly  Dec           NASDAQ      NASDAQ     T...</td>\n",
              "      <td>weekly dec nasdaq nasdaq top stockmarket buy f...</td>\n",
              "      <td>0.500000</td>\n",
              "      <td>0.500000</td>\n",
              "      <td>Positive</td>\n",
              "    </tr>\n",
              "    <tr>\n",
              "      <th>80</th>\n",
              "      <td>Weekly  Dec           NASDAQ      NASDAQ    ...</td>\n",
              "      <td>weekly dec nasdaq nasdaq top stockmarket sell ...</td>\n",
              "      <td>0.500000</td>\n",
              "      <td>0.500000</td>\n",
              "      <td>Positive</td>\n",
              "    </tr>\n",
              "    <tr>\n",
              "      <th>81</th>\n",
              "      <td>Weekly  Dec           NASDAQ      NASDAQ     T...</td>\n",
              "      <td>weekly dec nasdaq nasdaq top stockmarket sell ...</td>\n",
              "      <td>0.500000</td>\n",
              "      <td>0.500000</td>\n",
              "      <td>Positive</td>\n",
              "    </tr>\n",
              "    <tr>\n",
              "      <th>83</th>\n",
              "      <td>Weekly  Dec           NASDAQ      NASDAQ    ...</td>\n",
              "      <td>weekly dec nasdaq nasdaq top stockmarket sell ...</td>\n",
              "      <td>0.500000</td>\n",
              "      <td>0.500000</td>\n",
              "      <td>Positive</td>\n",
              "    </tr>\n",
              "    <tr>\n",
              "      <th>85</th>\n",
              "      <td>Bittrex Now Offers Trading in Tokenized Stoc...</td>\n",
              "      <td>bittrex now offers trading tokenized stocks tr...</td>\n",
              "      <td>0.166667</td>\n",
              "      <td>0.200000</td>\n",
              "      <td>Positive</td>\n",
              "    </tr>\n",
              "    <tr>\n",
              "      <th>86</th>\n",
              "      <td>BEST STOCKS OF THE YEAR            wasn t...</td>\n",
              "      <td>best stocks of the year wasn t easiest year mo...</td>\n",
              "      <td>0.300000</td>\n",
              "      <td>1.000000</td>\n",
              "      <td>Positive</td>\n",
              "    </tr>\n",
              "    <tr>\n",
              "      <th>88</th>\n",
              "      <td>BEST STOCKS OF THE YEAR            wasn...</td>\n",
              "      <td>best stocks of the year wasn t easiest year mo...</td>\n",
              "      <td>0.300000</td>\n",
              "      <td>1.000000</td>\n",
              "      <td>Positive</td>\n",
              "    </tr>\n",
              "    <tr>\n",
              "      <th>90</th>\n",
              "      <td>If you   ve wanted to get in to  stocks join...</td>\n",
              "      <td>if ve wanted stocks join webull referral link ...</td>\n",
              "      <td>0.000000</td>\n",
              "      <td>0.000000</td>\n",
              "      <td>Neutral</td>\n",
              "    </tr>\n",
              "    <tr>\n",
              "      <th>91</th>\n",
              "      <td>If you   ve wanted to get in to  stocks join  ...</td>\n",
              "      <td>if ve wanted stocks join webull referral link ...</td>\n",
              "      <td>0.000000</td>\n",
              "      <td>0.000000</td>\n",
              "      <td>Neutral</td>\n",
              "    </tr>\n",
              "    <tr>\n",
              "      <th>94</th>\n",
              "      <td>Anyone who bought the apple headphones    y   ...</td>\n",
              "      <td>anyone bought apple headphones y bought shares...</td>\n",
              "      <td>0.000000</td>\n",
              "      <td>0.000000</td>\n",
              "      <td>Neutral</td>\n",
              "    </tr>\n",
              "    <tr>\n",
              "      <th>95</th>\n",
              "      <td>New  Blog Post   Dow Jones Down     Points as ...</td>\n",
              "      <td>new blog post dow jones down points apple stoc...</td>\n",
              "      <td>0.371717</td>\n",
              "      <td>-0.009596</td>\n",
              "      <td>Negative</td>\n",
              "    </tr>\n",
              "    <tr>\n",
              "      <th>97</th>\n",
              "      <td>There   s a  Holiday  Event going on in ...</td>\n",
              "      <td>there s holiday event going webull mobileapp s...</td>\n",
              "      <td>0.000000</td>\n",
              "      <td>0.000000</td>\n",
              "      <td>Neutral</td>\n",
              "    </tr>\n",
              "    <tr>\n",
              "      <th>98</th>\n",
              "      <td>There   s a  Holiday  Event going on in th...</td>\n",
              "      <td>there s holiday event going webull mobileapp s...</td>\n",
              "      <td>0.000000</td>\n",
              "      <td>0.000000</td>\n",
              "      <td>Neutral</td>\n",
              "    </tr>\n",
              "  </tbody>\n",
              "</table>\n",
              "</div>"
            ],
            "text/plain": [
              "                                                 text  ...  analysis\n",
              "0        There   s a Holiday Event going on in the...  ...   Neutral\n",
              "1                           apple stocks rise by       ...   Neutral\n",
              "2   IL you can use multi touch to compare price ac...  ...   Neutral\n",
              "3     Synthetix Network Token  SNX  to list Synthe...  ...   Neutral\n",
              "5   Synthetix Network Token  SNX  to list Syntheti...  ...   Neutral\n",
              "14    Highest market cap in billions among  stocks...  ...   Neutral\n",
              "16     Apple   AAPL    With USD    x         With ...  ...   Neutral\n",
              "17     Facebook    FB   With USD      x         Wi...  ...   Neutral\n",
              "19  Highest market cap in billions among  stocks  ...  ...   Neutral\n",
              "20    Yup    Apple and Microsoft making their own ...  ...  Positive\n",
              "26        Count Santula  they will buy Apple Stocks    ...   Neutral\n",
              "28   They are archive stocks  Put them in a safe t...  ...  Positive\n",
              "29  He bought me Tesla and apple stocks as one of ...  ...   Neutral\n",
              "30   You can invest at the safe table and buy stoc...  ...  Positive\n",
              "34    this is a default ass screenshot of apple st...  ...  Negative\n",
              "35   After hours trading clawed back  I   m not in...  ...   Neutral\n",
              "36    Weekly  Dec          S amp P      SP     Top...  ...  Positive\n",
              "38    Weekly  Dec          S amp P      SP     Top...  ...  Positive\n",
              "46  Weekly  Dec          S amp P      SP     Top  ...  ...  Positive\n",
              "54   Bubble  Nobody on this thread owns    Maybe  ...  ...  Negative\n",
              "55  Aside from the dominant stock names  Vanguard ...  ...   Neutral\n",
              "56    Weekly  Dec           NASDAQ      NASDAQ    ...  ...  Positive\n",
              "59    Weekly  Dec           NASDAQ      NASDAQ    ...  ...  Positive\n",
              "62    Weekly  Dec          S amp P      SP     Top...  ...  Positive\n",
              "63    Weekly  Dec          S amp P      SP     Top...  ...  Positive\n",
              "65  Weekly  Dec          S amp P      SP     Top  ...  ...  Positive\n",
              "72  Weekly  Dec           NASDAQ      NASDAQ     T...  ...  Positive\n",
              "80    Weekly  Dec           NASDAQ      NASDAQ    ...  ...  Positive\n",
              "81  Weekly  Dec           NASDAQ      NASDAQ     T...  ...  Positive\n",
              "83    Weekly  Dec           NASDAQ      NASDAQ    ...  ...  Positive\n",
              "85    Bittrex Now Offers Trading in Tokenized Stoc...  ...  Positive\n",
              "86       BEST STOCKS OF THE YEAR            wasn t...  ...  Positive\n",
              "88         BEST STOCKS OF THE YEAR            wasn...  ...  Positive\n",
              "90    If you   ve wanted to get in to  stocks join...  ...   Neutral\n",
              "91  If you   ve wanted to get in to  stocks join  ...  ...   Neutral\n",
              "94  Anyone who bought the apple headphones    y   ...  ...   Neutral\n",
              "95  New  Blog Post   Dow Jones Down     Points as ...  ...  Negative\n",
              "97        There   s a  Holiday  Event going on in ...  ...   Neutral\n",
              "98      There   s a  Holiday  Event going on in th...  ...   Neutral\n",
              "\n",
              "[39 rows x 5 columns]"
            ]
          },
          "metadata": {
            "tags": []
          },
          "execution_count": 37
        }
      ]
    },
    {
      "cell_type": "code",
      "metadata": {
        "id": "Zk8A140h0wVB"
      },
      "source": [
        "#  stores data on colab\r\n",
        "df1.to_excel(\"output.xlsx\",\r\n",
        "             sheet_name='Sheet_name_1') "
      ],
      "execution_count": 67,
      "outputs": []
    },
    {
      "cell_type": "code",
      "metadata": {
        "cellView": "code",
        "id": "GvQ98Zz9z5zg"
      },
      "source": [
        "# Exporting dataframe from colab to drive\r\n",
        "\r\n",
        "#@title Default title text\r\n",
        "#converting list of lists to csv file\r\n",
        "# ['text', 'preTweets', 'subjectivity', 'polarity', 'analysis']\r\n",
        "\r\n",
        "df2 = pd.DataFrame(df1, columns = ['ID','text', 'preTweets', 'subjectivity', 'polarity', 'analysis'])\r\n",
        "\r\n",
        "df2.to_csv('/content/gdrive/MyDrive/B-Tech Project 20-21 Group 7/NLP datasets/RESULT DATASETS (1)/Apple-stocks' , sep = \",\")"
      ],
      "execution_count": 69,
      "outputs": []
    },
    {
      "cell_type": "code",
      "metadata": {
        "id": "dSxrBvngX2GT",
        "colab": {
          "base_uri": "https://localhost:8080/",
          "height": 337
        },
        "outputId": "f3e1581d-88d4-47c0-e96b-567f6f2f5e4c"
      },
      "source": [
        "df1.analysis.value_counts().plot(kind='pie', subplots=True, shadow = True, figsize=(5,5), autopct='%1.1f%%',legend = True)"
      ],
      "execution_count": 55,
      "outputs": [
        {
          "output_type": "execute_result",
          "data": {
            "text/plain": [
              "array([<matplotlib.axes._subplots.AxesSubplot object at 0x7fb60486ce48>],\n",
              "      dtype=object)"
            ]
          },
          "metadata": {
            "tags": []
          },
          "execution_count": 55
        },
        {
          "output_type": "display_data",
          "data": {
            "image/png": "[encoded data removed]",
            "text/plain": [
              "<Figure size 360x360 with 1 Axes>"
            ]
          },
          "metadata": {
            "tags": []
          }
        }
      ]
    },
    {
      "cell_type": "code",
      "metadata": {
        "id": "iVDm1SEiX89F",
        "colab": {
          "base_uri": "https://localhost:8080/",
          "height": 405
        },
        "outputId": "b6890c82-7c67-448f-c8b0-3778f2c0855a"
      },
      "source": [
        "df1.analysis.value_counts().plot(kind='bar', subplots=True, figsize=(5,5),legend = True)"
      ],
      "execution_count": 54,
      "outputs": [
        {
          "output_type": "execute_result",
          "data": {
            "text/plain": [
              "array([<matplotlib.axes._subplots.AxesSubplot object at 0x7fb6049f9a58>],\n",
              "      dtype=object)"
            ]
          },
          "metadata": {
            "tags": []
          },
          "execution_count": 54
        },
        {
          "output_type": "display_data",
          "data": {
            "image/png": "[encoded data removed]",
            "text/plain": [
              "<Figure size 360x360 with 1 Axes>"
            ]
          },
          "metadata": {
            "tags": [],
            "needs_background": "light"
          }
        }
      ]
    },
    {
      "cell_type": "code",
      "metadata": {
        "colab": {
          "base_uri": "https://localhost:8080/",
          "height": 348
        },
        "id": "HMY59t9oxT5v",
        "outputId": "b6ecb2ab-25cf-4f51-e190-9bff915c6f64"
      },
      "source": [
        "df1.analysis.value_counts().plot(kind='line', subplots=True, figsize=(5,5),legend = True)"
      ],
      "execution_count": 53,
      "outputs": [
        {
          "output_type": "execute_result",
          "data": {
            "text/plain": [
              "array([<matplotlib.axes._subplots.AxesSubplot object at 0x7fb604a3d390>],\n",
              "      dtype=object)"
            ]
          },
          "metadata": {
            "tags": []
          },
          "execution_count": 53
        },
        {
          "output_type": "display_data",
          "data": {
            "image/png": "[encoded data removed]",
            "text/plain": [
              "<Figure size 360x360 with 1 Axes>"
            ]
          },
          "metadata": {
            "tags": [],
            "needs_background": "light"
          }
        }
      ]
    },
    {
      "cell_type": "code",
      "metadata": {
        "colab": {
          "base_uri": "https://localhost:8080/",
          "height": 354
        },
        "id": "_782nWyRxeyl",
        "outputId": "9da993d4-a6cd-4453-8c12-f0b5bb8a08f3"
      },
      "source": [
        "df1.analysis.value_counts().plot(kind='hist', subplots=True, figsize=(5,5),legend = True)"
      ],
      "execution_count": 52,
      "outputs": [
        {
          "output_type": "execute_result",
          "data": {
            "text/plain": [
              "array([<matplotlib.axes._subplots.AxesSubplot object at 0x7fb604907be0>],\n",
              "      dtype=object)"
            ]
          },
          "metadata": {
            "tags": []
          },
          "execution_count": 52
        },
        {
          "output_type": "display_data",
          "data": {
            "image/png": "[encoded data removed]",
            "text/plain": [
              "<Figure size 360x360 with 1 Axes>"
            ]
          },
          "metadata": {
            "tags": [],
            "needs_background": "light"
          }
        }
      ]
    },
    {
      "cell_type": "code",
      "metadata": {
        "colab": {
          "base_uri": "https://localhost:8080/",
          "height": 370
        },
        "id": "Zo54Ke3qx2yb",
        "outputId": "5c0a8212-a07e-4e6c-f4aa-411539164225"
      },
      "source": [
        "df1.analysis.value_counts().plot(kind='barh', subplots=True, figsize=(5,5),legend = True)"
      ],
      "execution_count": 51,
      "outputs": [
        {
          "output_type": "execute_result",
          "data": {
            "text/plain": [
              "array([<matplotlib.axes._subplots.AxesSubplot object at 0x7fb604a10fd0>],\n",
              "      dtype=object)"
            ]
          },
          "metadata": {
            "tags": []
          },
          "execution_count": 51
        },
        {
          "output_type": "display_data",
          "data": {
            "image/png": "[encoded data removed]",
            "text/plain": [
              "<Figure size 360x360 with 1 Axes>"
            ]
          },
          "metadata": {
            "tags": [],
            "needs_background": "light"
          }
        }
      ]
    },
    {
      "cell_type": "code",
      "metadata": {
        "colab": {
          "base_uri": "https://localhost:8080/",
          "height": 298
        },
        "id": "FzMTKFJ9x7sb",
        "outputId": "444da495-5338-4a51-8125-7f4d6e878ae9"
      },
      "source": [
        "df1.plot.kde(bw_method = 0.5)"
      ],
      "execution_count": 58,
      "outputs": [
        {
          "output_type": "execute_result",
          "data": {
            "text/plain": [
              "<matplotlib.axes._subplots.AxesSubplot at 0x7fb604a91ba8>"
            ]
          },
          "metadata": {
            "tags": []
          },
          "execution_count": 58
        },
        {
          "output_type": "display_data",
          "data": {
            "image/png": "[encoded data removed]",
            "text/plain": [
              "<Figure size 432x288 with 1 Axes>"
            ]
          },
          "metadata": {
            "tags": [],
            "needs_background": "light"
          }
        }
      ]
    },
    {
      "cell_type": "code",
      "metadata": {
        "colab": {
          "base_uri": "https://localhost:8080/",
          "height": 293
        },
        "id": "XEn_GIvczAd6",
        "outputId": "caccbab2-f735-4902-cbe6-27d88a0fb799"
      },
      "source": [
        "df1.plot.box()"
      ],
      "execution_count": 59,
      "outputs": [
        {
          "output_type": "execute_result",
          "data": {
            "text/plain": [
              "<matplotlib.axes._subplots.AxesSubplot at 0x7fb5fa7dfd68>"
            ]
          },
          "metadata": {
            "tags": []
          },
          "execution_count": 59
        },
        {
          "output_type": "display_data",
          "data": {
            "image/png": "[encoded data removed]",
            "text/plain": [
              "<Figure size 432x288 with 1 Axes>"
            ]
          },
          "metadata": {
            "tags": [],
            "needs_background": "light"
          }
        }
      ]
    },
    {
      "cell_type": "code",
      "metadata": {
        "id": "mRm35czYzbLB"
      },
      "source": [
        ""
      ],
      "execution_count": null,
      "outputs": []
    }
  ]
}